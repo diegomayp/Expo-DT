{
 "cells": [
  {
   "cell_type": "code",
   "execution_count": null,
   "metadata": {
    "id": "QG-mpN2uBpGI"
   },
   "outputs": [],
   "source": [
    "import pandas as pd\n",
    "import numpy as np\n",
    "import sklearn as sk\n",
    "import graphviz\n",
    "import pydotplus\n",
    "from sklearn.preprocessing import LabelEncoder, StandardScaler\n",
    "from sklearn.impute import SimpleImputer\n",
    "from sklearn.model_selection import train_test_split\n",
    "from sklearn.tree import DecisionTreeClassifier\n",
    "from sklearn.metrics import accuracy_score, classification_report\n",
    "from sklearn.tree import export_text\n",
    "from sklearn.tree import export_graphviz\n",
    "from IPython.display import Image, display"
   ]
  },
  {
   "cell_type": "markdown",
   "metadata": {
    "id": "TB7AlKbkItC9"
   },
   "source": [
    "in the first cell all the libraries needed for the development of the code are imported"
   ]
  },
  {
   "cell_type": "code",
   "execution_count": null,
   "metadata": {
    "colab": {
     "base_uri": "https://localhost:8080/",
     "height": 400
    },
    "id": "xKs0adweFa1U",
    "outputId": "0eae71d8-f8c0-49f7-da1f-1416bd90c36a"
   },
   "outputs": [
    {
     "data": {
      "text/html": [
       "\n",
       "  <div id=\"df-362b3bf1-8e3d-49e1-b63a-1a6fea7de4fc\" class=\"colab-df-container\">\n",
       "    <div>\n",
       "<style scoped>\n",
       "    .dataframe tbody tr th:only-of-type {\n",
       "        vertical-align: middle;\n",
       "    }\n",
       "\n",
       "    .dataframe tbody tr th {\n",
       "        vertical-align: top;\n",
       "    }\n",
       "\n",
       "    .dataframe thead th {\n",
       "        text-align: right;\n",
       "    }\n",
       "</style>\n",
       "<table border=\"1\" class=\"dataframe\">\n",
       "  <thead>\n",
       "    <tr style=\"text-align: right;\">\n",
       "      <th></th>\n",
       "      <th>Lat</th>\n",
       "      <th>Lng</th>\n",
       "      <th>What Dinosaurs Eat</th>\n",
       "      <th>Accepted Name</th>\n",
       "      <th>Country</th>\n",
       "      <th>Cc</th>\n",
       "      <th>Diet</th>\n",
       "      <th>Early Interval</th>\n",
       "      <th>Formation</th>\n",
       "      <th>Geological Interval</th>\n",
       "      <th>Geological Time Period</th>\n",
       "      <th>Ref Author</th>\n",
       "      <th>Ref Pubyr</th>\n",
       "      <th>State</th>\n",
       "      <th>Max Ma</th>\n",
       "      <th>Min Ma</th>\n",
       "    </tr>\n",
       "  </thead>\n",
       "  <tbody>\n",
       "    <tr>\n",
       "      <th>0</th>\n",
       "      <td>42.933300</td>\n",
       "      <td>123.966698</td>\n",
       "      <td>PLANT</td>\n",
       "      <td>Chaoyangsaurus youngi</td>\n",
       "      <td>China</td>\n",
       "      <td>CN</td>\n",
       "      <td>herbivore</td>\n",
       "      <td>Late Tithonian</td>\n",
       "      <td>Tuchengzi</td>\n",
       "      <td>Tithonian</td>\n",
       "      <td>Jurassic</td>\n",
       "      <td>Dong</td>\n",
       "      <td>1992</td>\n",
       "      <td>Liaoning</td>\n",
       "      <td>150.8</td>\n",
       "      <td>132.90</td>\n",
       "    </tr>\n",
       "    <tr>\n",
       "      <th>1</th>\n",
       "      <td>41.799999</td>\n",
       "      <td>120.733330</td>\n",
       "      <td>PLANT and ANIMAL</td>\n",
       "      <td>Protarchaeopteryx robusta</td>\n",
       "      <td>China</td>\n",
       "      <td>CN</td>\n",
       "      <td>omnivore</td>\n",
       "      <td>Late Barremian</td>\n",
       "      <td>Yixian</td>\n",
       "      <td>Barremian</td>\n",
       "      <td>Cretaceous</td>\n",
       "      <td>Ji et al.</td>\n",
       "      <td>1998</td>\n",
       "      <td>Liaoning</td>\n",
       "      <td>130.0</td>\n",
       "      <td>122.46</td>\n",
       "    </tr>\n",
       "    <tr>\n",
       "      <th>2</th>\n",
       "      <td>41.799999</td>\n",
       "      <td>120.733330</td>\n",
       "      <td>PLANT and ANIMAL</td>\n",
       "      <td>Caudipteryx zoui</td>\n",
       "      <td>China</td>\n",
       "      <td>CN</td>\n",
       "      <td>omnivore</td>\n",
       "      <td>Late Barremian</td>\n",
       "      <td>Yixian</td>\n",
       "      <td>Barremian</td>\n",
       "      <td>Cretaceous</td>\n",
       "      <td>Ji and Ji</td>\n",
       "      <td>1997</td>\n",
       "      <td>Liaoning</td>\n",
       "      <td>130.0</td>\n",
       "      <td>122.46</td>\n",
       "    </tr>\n",
       "    <tr>\n",
       "      <th>3</th>\n",
       "      <td>50.740726</td>\n",
       "      <td>-111.528732</td>\n",
       "      <td>FLESH</td>\n",
       "      <td>Gorgosaurus libratus</td>\n",
       "      <td>Canada</td>\n",
       "      <td>CA</td>\n",
       "      <td>carnivore</td>\n",
       "      <td>Late Campanian</td>\n",
       "      <td>Dinosaur Park</td>\n",
       "      <td>Campanian</td>\n",
       "      <td>Cretaceous</td>\n",
       "      <td>Matthew and Brown</td>\n",
       "      <td>1922</td>\n",
       "      <td>Alberta</td>\n",
       "      <td>83.5</td>\n",
       "      <td>70.60</td>\n",
       "    </tr>\n",
       "    <tr>\n",
       "      <th>4</th>\n",
       "      <td>50.737015</td>\n",
       "      <td>-111.549347</td>\n",
       "      <td>FLESH</td>\n",
       "      <td>Gorgosaurus libratus</td>\n",
       "      <td>Canada</td>\n",
       "      <td>CA</td>\n",
       "      <td>carnivore</td>\n",
       "      <td>Late Campanian</td>\n",
       "      <td>Dinosaur Park</td>\n",
       "      <td>Campanian</td>\n",
       "      <td>Cretaceous</td>\n",
       "      <td>Russell</td>\n",
       "      <td>1970</td>\n",
       "      <td>Alberta</td>\n",
       "      <td>83.5</td>\n",
       "      <td>70.60</td>\n",
       "    </tr>\n",
       "  </tbody>\n",
       "</table>\n",
       "</div>\n",
       "    <div class=\"colab-df-buttons\">\n",
       "\n",
       "  <div class=\"colab-df-container\">\n",
       "    <button class=\"colab-df-convert\" onclick=\"convertToInteractive('df-362b3bf1-8e3d-49e1-b63a-1a6fea7de4fc')\"\n",
       "            title=\"Convert this dataframe to an interactive table.\"\n",
       "            style=\"display:none;\">\n",
       "\n",
       "  <svg xmlns=\"http://www.w3.org/2000/svg\" height=\"24px\" viewBox=\"0 -960 960 960\">\n",
       "    <path d=\"M120-120v-720h720v720H120Zm60-500h600v-160H180v160Zm220 220h160v-160H400v160Zm0 220h160v-160H400v160ZM180-400h160v-160H180v160Zm440 0h160v-160H620v160ZM180-180h160v-160H180v160Zm440 0h160v-160H620v160Z\"/>\n",
       "  </svg>\n",
       "    </button>\n",
       "\n",
       "  <style>\n",
       "    .colab-df-container {\n",
       "      display:flex;\n",
       "      gap: 12px;\n",
       "    }\n",
       "\n",
       "    .colab-df-convert {\n",
       "      background-color: #E8F0FE;\n",
       "      border: none;\n",
       "      border-radius: 50%;\n",
       "      cursor: pointer;\n",
       "      display: none;\n",
       "      fill: #1967D2;\n",
       "      height: 32px;\n",
       "      padding: 0 0 0 0;\n",
       "      width: 32px;\n",
       "    }\n",
       "\n",
       "    .colab-df-convert:hover {\n",
       "      background-color: #E2EBFA;\n",
       "      box-shadow: 0px 1px 2px rgba(60, 64, 67, 0.3), 0px 1px 3px 1px rgba(60, 64, 67, 0.15);\n",
       "      fill: #174EA6;\n",
       "    }\n",
       "\n",
       "    .colab-df-buttons div {\n",
       "      margin-bottom: 4px;\n",
       "    }\n",
       "\n",
       "    [theme=dark] .colab-df-convert {\n",
       "      background-color: #3B4455;\n",
       "      fill: #D2E3FC;\n",
       "    }\n",
       "\n",
       "    [theme=dark] .colab-df-convert:hover {\n",
       "      background-color: #434B5C;\n",
       "      box-shadow: 0px 1px 3px 1px rgba(0, 0, 0, 0.15);\n",
       "      filter: drop-shadow(0px 1px 2px rgba(0, 0, 0, 0.3));\n",
       "      fill: #FFFFFF;\n",
       "    }\n",
       "  </style>\n",
       "\n",
       "    <script>\n",
       "      const buttonEl =\n",
       "        document.querySelector('#df-362b3bf1-8e3d-49e1-b63a-1a6fea7de4fc button.colab-df-convert');\n",
       "      buttonEl.style.display =\n",
       "        google.colab.kernel.accessAllowed ? 'block' : 'none';\n",
       "\n",
       "      async function convertToInteractive(key) {\n",
       "        const element = document.querySelector('#df-362b3bf1-8e3d-49e1-b63a-1a6fea7de4fc');\n",
       "        const dataTable =\n",
       "          await google.colab.kernel.invokeFunction('convertToInteractive',\n",
       "                                                    [key], {});\n",
       "        if (!dataTable) return;\n",
       "\n",
       "        const docLinkHtml = 'Like what you see? Visit the ' +\n",
       "          '<a target=\"_blank\" href=https://colab.research.google.com/notebooks/data_table.ipynb>data table notebook</a>'\n",
       "          + ' to learn more about interactive tables.';\n",
       "        element.innerHTML = '';\n",
       "        dataTable['output_type'] = 'display_data';\n",
       "        await google.colab.output.renderOutput(dataTable, element);\n",
       "        const docLink = document.createElement('div');\n",
       "        docLink.innerHTML = docLinkHtml;\n",
       "        element.appendChild(docLink);\n",
       "      }\n",
       "    </script>\n",
       "  </div>\n",
       "\n",
       "\n",
       "<div id=\"df-d66cb3de-8ce6-438a-8fae-140ac239877c\">\n",
       "  <button class=\"colab-df-quickchart\" onclick=\"quickchart('df-d66cb3de-8ce6-438a-8fae-140ac239877c')\"\n",
       "            title=\"Suggest charts.\"\n",
       "            style=\"display:none;\">\n",
       "\n",
       "<svg xmlns=\"http://www.w3.org/2000/svg\" height=\"24px\"viewBox=\"0 0 24 24\"\n",
       "     width=\"24px\">\n",
       "    <g>\n",
       "        <path d=\"M19 3H5c-1.1 0-2 .9-2 2v14c0 1.1.9 2 2 2h14c1.1 0 2-.9 2-2V5c0-1.1-.9-2-2-2zM9 17H7v-7h2v7zm4 0h-2V7h2v10zm4 0h-2v-4h2v4z\"/>\n",
       "    </g>\n",
       "</svg>\n",
       "  </button>\n",
       "\n",
       "<style>\n",
       "  .colab-df-quickchart {\n",
       "      --bg-color: #E8F0FE;\n",
       "      --fill-color: #1967D2;\n",
       "      --hover-bg-color: #E2EBFA;\n",
       "      --hover-fill-color: #174EA6;\n",
       "      --disabled-fill-color: #AAA;\n",
       "      --disabled-bg-color: #DDD;\n",
       "  }\n",
       "\n",
       "  [theme=dark] .colab-df-quickchart {\n",
       "      --bg-color: #3B4455;\n",
       "      --fill-color: #D2E3FC;\n",
       "      --hover-bg-color: #434B5C;\n",
       "      --hover-fill-color: #FFFFFF;\n",
       "      --disabled-bg-color: #3B4455;\n",
       "      --disabled-fill-color: #666;\n",
       "  }\n",
       "\n",
       "  .colab-df-quickchart {\n",
       "    background-color: var(--bg-color);\n",
       "    border: none;\n",
       "    border-radius: 50%;\n",
       "    cursor: pointer;\n",
       "    display: none;\n",
       "    fill: var(--fill-color);\n",
       "    height: 32px;\n",
       "    padding: 0;\n",
       "    width: 32px;\n",
       "  }\n",
       "\n",
       "  .colab-df-quickchart:hover {\n",
       "    background-color: var(--hover-bg-color);\n",
       "    box-shadow: 0 1px 2px rgba(60, 64, 67, 0.3), 0 1px 3px 1px rgba(60, 64, 67, 0.15);\n",
       "    fill: var(--button-hover-fill-color);\n",
       "  }\n",
       "\n",
       "  .colab-df-quickchart-complete:disabled,\n",
       "  .colab-df-quickchart-complete:disabled:hover {\n",
       "    background-color: var(--disabled-bg-color);\n",
       "    fill: var(--disabled-fill-color);\n",
       "    box-shadow: none;\n",
       "  }\n",
       "\n",
       "  .colab-df-spinner {\n",
       "    border: 2px solid var(--fill-color);\n",
       "    border-color: transparent;\n",
       "    border-bottom-color: var(--fill-color);\n",
       "    animation:\n",
       "      spin 1s steps(1) infinite;\n",
       "  }\n",
       "\n",
       "  @keyframes spin {\n",
       "    0% {\n",
       "      border-color: transparent;\n",
       "      border-bottom-color: var(--fill-color);\n",
       "      border-left-color: var(--fill-color);\n",
       "    }\n",
       "    20% {\n",
       "      border-color: transparent;\n",
       "      border-left-color: var(--fill-color);\n",
       "      border-top-color: var(--fill-color);\n",
       "    }\n",
       "    30% {\n",
       "      border-color: transparent;\n",
       "      border-left-color: var(--fill-color);\n",
       "      border-top-color: var(--fill-color);\n",
       "      border-right-color: var(--fill-color);\n",
       "    }\n",
       "    40% {\n",
       "      border-color: transparent;\n",
       "      border-right-color: var(--fill-color);\n",
       "      border-top-color: var(--fill-color);\n",
       "    }\n",
       "    60% {\n",
       "      border-color: transparent;\n",
       "      border-right-color: var(--fill-color);\n",
       "    }\n",
       "    80% {\n",
       "      border-color: transparent;\n",
       "      border-right-color: var(--fill-color);\n",
       "      border-bottom-color: var(--fill-color);\n",
       "    }\n",
       "    90% {\n",
       "      border-color: transparent;\n",
       "      border-bottom-color: var(--fill-color);\n",
       "    }\n",
       "  }\n",
       "</style>\n",
       "\n",
       "  <script>\n",
       "    async function quickchart(key) {\n",
       "      const quickchartButtonEl =\n",
       "        document.querySelector('#' + key + ' button');\n",
       "      quickchartButtonEl.disabled = true;  // To prevent multiple clicks.\n",
       "      quickchartButtonEl.classList.add('colab-df-spinner');\n",
       "      try {\n",
       "        const charts = await google.colab.kernel.invokeFunction(\n",
       "            'suggestCharts', [key], {});\n",
       "      } catch (error) {\n",
       "        console.error('Error during call to suggestCharts:', error);\n",
       "      }\n",
       "      quickchartButtonEl.classList.remove('colab-df-spinner');\n",
       "      quickchartButtonEl.classList.add('colab-df-quickchart-complete');\n",
       "    }\n",
       "    (() => {\n",
       "      let quickchartButtonEl =\n",
       "        document.querySelector('#df-d66cb3de-8ce6-438a-8fae-140ac239877c button');\n",
       "      quickchartButtonEl.style.display =\n",
       "        google.colab.kernel.accessAllowed ? 'block' : 'none';\n",
       "    })();\n",
       "  </script>\n",
       "</div>\n",
       "    </div>\n",
       "  </div>\n"
      ],
      "text/plain": [
       "         Lat         Lng What Dinosaurs Eat              Accepted Name  \\\n",
       "0  42.933300  123.966698              PLANT      Chaoyangsaurus youngi   \n",
       "1  41.799999  120.733330   PLANT and ANIMAL  Protarchaeopteryx robusta   \n",
       "2  41.799999  120.733330   PLANT and ANIMAL           Caudipteryx zoui   \n",
       "3  50.740726 -111.528732              FLESH       Gorgosaurus libratus   \n",
       "4  50.737015 -111.549347              FLESH       Gorgosaurus libratus   \n",
       "\n",
       "  Country  Cc       Diet  Early Interval      Formation Geological Interval  \\\n",
       "0   China  CN  herbivore  Late Tithonian      Tuchengzi           Tithonian   \n",
       "1   China  CN   omnivore  Late Barremian         Yixian           Barremian   \n",
       "2   China  CN   omnivore  Late Barremian         Yixian           Barremian   \n",
       "3  Canada  CA  carnivore  Late Campanian  Dinosaur Park           Campanian   \n",
       "4  Canada  CA  carnivore  Late Campanian  Dinosaur Park           Campanian   \n",
       "\n",
       "  Geological Time Period         Ref Author  Ref Pubyr     State  Max Ma  \\\n",
       "0               Jurassic               Dong       1992  Liaoning   150.8   \n",
       "1             Cretaceous          Ji et al.       1998  Liaoning   130.0   \n",
       "2             Cretaceous          Ji and Ji       1997  Liaoning   130.0   \n",
       "3             Cretaceous  Matthew and Brown       1922   Alberta    83.5   \n",
       "4             Cretaceous            Russell       1970   Alberta    83.5   \n",
       "\n",
       "   Min Ma  \n",
       "0  132.90  \n",
       "1  122.46  \n",
       "2  122.46  \n",
       "3   70.60  \n",
       "4   70.60  "
      ]
     },
     "execution_count": 5,
     "metadata": {},
     "output_type": "execute_result"
    }
   ],
   "source": [
    "df = pd.read_csv('/content/kaggle.csv')\n",
    "df.head()"
   ]
  },
  {
   "cell_type": "markdown",
   "metadata": {
    "id": "MCIC4nXWFto2"
   },
   "source": [
    "The I create a dataframe from pandas and all the information of the csv was saved it there\n"
   ]
  },
  {
   "cell_type": "code",
   "execution_count": null,
   "metadata": {
    "colab": {
     "base_uri": "https://localhost:8080/"
    },
    "id": "eFrjioXOFvWd",
    "outputId": "c32d708d-6a80-45c8-a725-441db7b6b5b4"
   },
   "outputs": [
    {
     "name": "stdout",
     "output_type": "stream",
     "text": [
      "Data divided\n",
      "Index(['Lat', 'Lng', 'Accepted Name', 'Country', 'Cc', 'Early Interval',\n",
      "       'Formation', 'Geological Interval', 'Geological Time Period', 'Max Ma',\n",
      "       'Min Ma'],\n",
      "      dtype='object')\n"
     ]
    }
   ],
   "source": [
    "deleted =[\"Ref Author\",\"Ref Pubyr\", \"State\",\"What Dinosaurs Eat\", 'Diet']\n",
    "x = df.drop(deleted, axis=1)\n",
    "y = df['Diet']\n",
    "\n",
    "print('Data divided')\n",
    "print(x.columns)"
   ]
  },
  {
   "cell_type": "markdown",
   "metadata": {
    "id": "Jg7dZ7jZJx-h"
   },
   "source": [
    "The next step is to create features and save them in a variable x and my classes in a variable y; All the columns of the dataframe that are not used are deleted with a drop and saved in a variable called 'deleted' variable that will later be saved in x, as my intention is to classify dinosaurs by their type of diet, then the 'diet' column will be will become my classes column."
   ]
  },
  {
   "cell_type": "code",
   "execution_count": null,
   "metadata": {
    "id": "9Cv61e4BG2kS"
   },
   "outputs": [],
   "source": [
    "label_encoder = LabelEncoder()\n",
    "x['Accepted Name']=label_encoder.fit_transform(x['Accepted Name'])\n",
    "x['Country']=label_encoder.fit_transform(x['Country'])\n",
    "x['Cc']=label_encoder.fit_transform(x['Cc'])\n",
    "x['Early Interval']=label_encoder.fit_transform(x['Early Interval'])\n",
    "x['Formation']=label_encoder.fit_transform(x['Formation'])\n",
    "x['Geological Interval']=label_encoder.fit_transform(x['Geological Interval'])\n",
    "x['Geological Time Period']=label_encoder.fit_transform(x['Geological Time Period'])\n",
    "x['Max Ma']=label_encoder.fit_transform(x['Max Ma'])\n",
    "x['Min Ma']=label_encoder.fit_transform(x['Min Ma'])\n",
    "\n",
    "imputer = SimpleImputer(strategy = \"mean\")\n",
    "\n",
    "x_imputed = imputer.fit_transform(x)\n",
    "\n",
    "scaler = StandardScaler()\n",
    "x_scaler = scaler.fit_transform(x_imputed)"
   ]
  },
  {
   "cell_type": "markdown",
   "metadata": {
    "id": "rYdwYdfUKn_n"
   },
   "source": [
    "Having most of the information in Spanish, it is necessary to encode it so that the model can work with numerical values, so we use an imputer with the \"mean\" strategy to impute missing values in my data set 'x';\n",
    "A Scaler is also used in which the characteristics of a data set are adjusted so that they have a mean of 0 and a standard deviation of 1."
   ]
  },
  {
   "cell_type": "code",
   "execution_count": null,
   "metadata": {
    "id": "OJantfcaKQQl"
   },
   "outputs": [],
   "source": [
    "x_train, x_test, y_train, y_test = train_test_split(x_scaler, y, test_size=0.2, random_state=42)"
   ]
  },
  {
   "cell_type": "markdown",
   "metadata": {
    "id": "rzdFv4pDK0zT"
   },
   "source": [
    "As the next step, the division of my set 'x' and 'y' into train and test is carried out in order to train the model and then perform tests."
   ]
  },
  {
   "cell_type": "code",
   "execution_count": null,
   "metadata": {
    "colab": {
     "base_uri": "https://localhost:8080/",
     "height": 75
    },
    "id": "_4KASRqLKm_t",
    "outputId": "fd825faa-0cbe-4ba3-c32c-106f3a63776a"
   },
   "outputs": [
    {
     "data": {
      "text/html": [
       "<style>#sk-container-id-1 {color: black;background-color: white;}#sk-container-id-1 pre{padding: 0;}#sk-container-id-1 div.sk-toggleable {background-color: white;}#sk-container-id-1 label.sk-toggleable__label {cursor: pointer;display: block;width: 100%;margin-bottom: 0;padding: 0.3em;box-sizing: border-box;text-align: center;}#sk-container-id-1 label.sk-toggleable__label-arrow:before {content: \"▸\";float: left;margin-right: 0.25em;color: #696969;}#sk-container-id-1 label.sk-toggleable__label-arrow:hover:before {color: black;}#sk-container-id-1 div.sk-estimator:hover label.sk-toggleable__label-arrow:before {color: black;}#sk-container-id-1 div.sk-toggleable__content {max-height: 0;max-width: 0;overflow: hidden;text-align: left;background-color: #f0f8ff;}#sk-container-id-1 div.sk-toggleable__content pre {margin: 0.2em;color: black;border-radius: 0.25em;background-color: #f0f8ff;}#sk-container-id-1 input.sk-toggleable__control:checked~div.sk-toggleable__content {max-height: 200px;max-width: 100%;overflow: auto;}#sk-container-id-1 input.sk-toggleable__control:checked~label.sk-toggleable__label-arrow:before {content: \"▾\";}#sk-container-id-1 div.sk-estimator input.sk-toggleable__control:checked~label.sk-toggleable__label {background-color: #d4ebff;}#sk-container-id-1 div.sk-label input.sk-toggleable__control:checked~label.sk-toggleable__label {background-color: #d4ebff;}#sk-container-id-1 input.sk-hidden--visually {border: 0;clip: rect(1px 1px 1px 1px);clip: rect(1px, 1px, 1px, 1px);height: 1px;margin: -1px;overflow: hidden;padding: 0;position: absolute;width: 1px;}#sk-container-id-1 div.sk-estimator {font-family: monospace;background-color: #f0f8ff;border: 1px dotted black;border-radius: 0.25em;box-sizing: border-box;margin-bottom: 0.5em;}#sk-container-id-1 div.sk-estimator:hover {background-color: #d4ebff;}#sk-container-id-1 div.sk-parallel-item::after {content: \"\";width: 100%;border-bottom: 1px solid gray;flex-grow: 1;}#sk-container-id-1 div.sk-label:hover label.sk-toggleable__label {background-color: #d4ebff;}#sk-container-id-1 div.sk-serial::before {content: \"\";position: absolute;border-left: 1px solid gray;box-sizing: border-box;top: 0;bottom: 0;left: 50%;z-index: 0;}#sk-container-id-1 div.sk-serial {display: flex;flex-direction: column;align-items: center;background-color: white;padding-right: 0.2em;padding-left: 0.2em;position: relative;}#sk-container-id-1 div.sk-item {position: relative;z-index: 1;}#sk-container-id-1 div.sk-parallel {display: flex;align-items: stretch;justify-content: center;background-color: white;position: relative;}#sk-container-id-1 div.sk-item::before, #sk-container-id-1 div.sk-parallel-item::before {content: \"\";position: absolute;border-left: 1px solid gray;box-sizing: border-box;top: 0;bottom: 0;left: 50%;z-index: -1;}#sk-container-id-1 div.sk-parallel-item {display: flex;flex-direction: column;z-index: 1;position: relative;background-color: white;}#sk-container-id-1 div.sk-parallel-item:first-child::after {align-self: flex-end;width: 50%;}#sk-container-id-1 div.sk-parallel-item:last-child::after {align-self: flex-start;width: 50%;}#sk-container-id-1 div.sk-parallel-item:only-child::after {width: 0;}#sk-container-id-1 div.sk-dashed-wrapped {border: 1px dashed gray;margin: 0 0.4em 0.5em 0.4em;box-sizing: border-box;padding-bottom: 0.4em;background-color: white;}#sk-container-id-1 div.sk-label label {font-family: monospace;font-weight: bold;display: inline-block;line-height: 1.2em;}#sk-container-id-1 div.sk-label-container {text-align: center;}#sk-container-id-1 div.sk-container {/* jupyter's `normalize.less` sets `[hidden] { display: none; }` but bootstrap.min.css set `[hidden] { display: none !important; }` so we also need the `!important` here to be able to override the default hidden behavior on the sphinx rendered scikit-learn.org. See: https://github.com/scikit-learn/scikit-learn/issues/21755 */display: inline-block !important;position: relative;}#sk-container-id-1 div.sk-text-repr-fallback {display: none;}</style><div id=\"sk-container-id-1\" class=\"sk-top-container\"><div class=\"sk-text-repr-fallback\"><pre>DecisionTreeClassifier()</pre><b>In a Jupyter environment, please rerun this cell to show the HTML representation or trust the notebook. <br />On GitHub, the HTML representation is unable to render, please try loading this page with nbviewer.org.</b></div><div class=\"sk-container\" hidden><div class=\"sk-item\"><div class=\"sk-estimator sk-toggleable\"><input class=\"sk-toggleable__control sk-hidden--visually\" id=\"sk-estimator-id-1\" type=\"checkbox\" checked><label for=\"sk-estimator-id-1\" class=\"sk-toggleable__label sk-toggleable__label-arrow\">DecisionTreeClassifier</label><div class=\"sk-toggleable__content\"><pre>DecisionTreeClassifier()</pre></div></div></div></div></div>"
      ],
      "text/plain": [
       "DecisionTreeClassifier()"
      ]
     },
     "execution_count": 9,
     "metadata": {},
     "output_type": "execute_result"
    }
   ],
   "source": [
    "model = DecisionTreeClassifier()\n",
    "model.fit(x_train, y_train)\n"
   ]
  },
  {
   "cell_type": "markdown",
   "metadata": {
    "id": "SrTFVtkmLFqe"
   },
   "source": [
    "The decision tree model is imported from the sklearn library and its training is carried out."
   ]
  },
  {
   "cell_type": "code",
   "execution_count": null,
   "metadata": {
    "colab": {
     "base_uri": "https://localhost:8080/"
    },
    "id": "n9M9IqCfOGRo",
    "outputId": "b0860ba4-3d79-4686-c7c4-f2bb90f33c91"
   },
   "outputs": [
    {
     "name": "stdout",
     "output_type": "stream",
     "text": [
      "Dinosaurio: Chaoyangsaurus youngi, Clasificación: carnivore\n",
      "Dinosaurio: Protarchaeopteryx robusta, Clasificación: herbivore\n",
      "Dinosaurio: Caudipteryx zoui, Clasificación: herbivore\n",
      "Dinosaurio: Gorgosaurus libratus, Clasificación: carnivore\n"
     ]
    }
   ],
   "source": [
    "y_pred = model.predict(x_test)\n",
    "\n",
    "dinosaur_names = df['Accepted Name'].tolist()\n",
    "for i in range(4):\n",
    "    print(f'Dinosaurio: {dinosaur_names[i]}, Clasificación: {y_pred[i]}')\n"
   ]
  },
  {
   "cell_type": "markdown",
   "metadata": {
    "id": "kwEp6-S8LIXT"
   },
   "source": [
    "Then I make predictions on my test set and save them in a variable y_pred, then I show 4 examples of the predictions that were made"
   ]
  },
  {
   "cell_type": "code",
   "execution_count": null,
   "metadata": {
    "colab": {
     "base_uri": "https://localhost:8080/"
    },
    "id": "GzX0mBh4MLU6",
    "outputId": "107ee987-2245-45df-bb21-e4114f1940ac"
   },
   "outputs": [
    {
     "name": "stdout",
     "output_type": "stream",
     "text": [
      "model accuracy: 0.8803245436105477\n",
      "Clasification Inform:\n",
      "                     precision    recall  f1-score   support\n",
      "\n",
      "          carnivore       0.87      0.91      0.89       212\n",
      "carnivore, omnivore       0.93      0.88      0.90        16\n",
      "          herbivore       0.91      0.87      0.89       243\n",
      "herbivore, omnivore       0.60      0.60      0.60         5\n",
      "           omnivore       0.50      0.67      0.57         9\n",
      "          piscivore       0.75      0.75      0.75         8\n",
      "\n",
      "           accuracy                           0.88       493\n",
      "          macro avg       0.76      0.78      0.77       493\n",
      "       weighted avg       0.88      0.88      0.88       493\n",
      "\n"
     ]
    }
   ],
   "source": [
    "accuracy = accuracy_score(y_test, y_pred)\n",
    "report = classification_report(y_test, y_pred)\n",
    "print(f'model accuracy: {accuracy}')\n",
    "print('Clasification Inform:')\n",
    "print(report)"
   ]
  },
  {
   "cell_type": "markdown",
   "metadata": {
    "id": "z5ialzRLMk2v"
   },
   "source": [
    "Finally I carry out an evaluation of my model,\n",
    "The first makes a measurement so that if my model took 4 dinosaurs and said that they were carnivores, what percentage of those 4 were actually carnivores.\n",
    "In the recall, if my model takes 10 dinosaurs and classifies them as carnivores, but only 5 if they were carnivores, then it shows me a measure of what percentage these 5 numbers represent in all the carinivorous dinosaurs in my dataset.\n",
    "The f1-score is an average of both measurements and my support is my total number of dinosaurs in each category.\n",
    "Below I show a measure of my effectiveness, which is accuracy.\n",
    "the \"macro avg\" is a simple average of the evaluation metrics (such as precision, recall and F1 score) calculated for each class separately and finally the \"weighted avg\" is a weighted average of the evaluation metrics, where the weight of each class is based on the proportion of examples in that class in the data set."
   ]
  },
  {
   "cell_type": "markdown",
   "metadata": {
    "id": "PZPZQfUBNH_f"
   },
   "source": [
    "**Logic**"
   ]
  },
  {
   "cell_type": "markdown",
   "metadata": {
    "id": "-fd3K_mQNKf0"
   },
   "source": [
    "To explain the logic of the decision tree we will start with an example. Imagine you are making decisions like \"Should I bring an umbrella today?\" and you take into account different factors, such as weather, temperature and the probability of rain. A decision tree works in a similar way. It starts with a main question at the top of the tree, such as \"Is it raining?\", and then branches into more questions based on the answers as you go down the tree. Each answer leads you to a decision, such as \"Take an umbrella\" or \"Don't bring an umbrella.\" In this way, a decision tree makes decisions based on specific characteristics and follows a path until reaching a conclusion."
   ]
  }
 ],
 "metadata": {
  "colab": {
   "provenance": []
  },
  "kernelspec": {
   "display_name": "Python 3 (ipykernel)",
   "language": "python",
   "name": "python3"
  },
  "language_info": {
   "codemirror_mode": {
    "name": "ipython",
    "version": 3
   },
   "file_extension": ".py",
   "mimetype": "text/x-python",
   "name": "python",
   "nbconvert_exporter": "python",
   "pygments_lexer": "ipython3",
   "version": "3.11.4"
  }
 },
 "nbformat": 4,
 "nbformat_minor": 1
}
